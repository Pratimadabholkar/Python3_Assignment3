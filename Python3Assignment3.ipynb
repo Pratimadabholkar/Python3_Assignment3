{
 "cells": [
  {
   "cell_type": "code",
   "execution_count": 46,
   "metadata": {},
   "outputs": [
    {
     "name": "stdout",
     "output_type": "stream",
     "text": [
      "[27]\n"
     ]
    }
   ],
   "source": [
    "# Write a Python Program to implement your own myreduce() function which works exactly\n",
    "# like Python's built-in function reduce()\n",
    "# Sum of list\n",
    "\n",
    "def myreduce(list):\n",
    "    total = 0\n",
    "    for x in list:\n",
    "        total += x\n",
    "    return [total]\n",
    "print(myreduce((4, 2, 6, 8, 7)))"
   ]
  },
  {
   "cell_type": "code",
   "execution_count": 47,
   "metadata": {},
   "outputs": [
    {
     "name": "stdout",
     "output_type": "stream",
     "text": [
      "[8, 2, 4]\n"
     ]
    }
   ],
   "source": [
    "# Write a Python program to implement your own myfilter() function which works exactly like\n",
    "#Python's built-in function filter()\n",
    "# Filter Even Numbers\n",
    "def myfilter(list):\n",
    "    even_list = []\n",
    "    for x in list:\n",
    "        if(x%2==0):\n",
    "            even_list.append(x)\n",
    "    return even_list\n",
    "print(myfilter((8, 2, 3, 4, 7)))"
   ]
  },
  {
   "cell_type": "code",
   "execution_count": 33,
   "metadata": {},
   "outputs": [
    {
     "name": "stdout",
     "output_type": "stream",
     "text": [
      "['A', 'C', 'A', 'D', 'G', 'I', 'L', 'D']\n",
      "['x', 'xx', 'xxx', 'y', 'yy', 'yyy', 'z', 'zz', 'zzz']\n",
      "['x', 'y', 'z', 'xx', 'yy', 'zz', 'xxx', 'yyy', 'zzz', 'xxxx', 'yyyy', 'zzzz']\n",
      "[[2], [3], [4], [3], [4], [5], [4], [5], [6]]\n",
      "[[2, 3, 4, 5], [3, 4, 5, 6], [4, 5, 6, 7], [5, 6, 7, 8]]\n",
      "[(1, 1), (2, 1), (3, 1), (1, 2), (2, 2), (3, 2), (1, 3), (2, 3), (3, 3)]\n"
     ]
    }
   ],
   "source": [
    "# Implement List comprehensions to produce the following lists.\n",
    "#Write List comprehensions to produce the following Lists\n",
    "#['A', 'C', 'A', 'D', 'G', 'I', ’L’, ‘ D’]\n",
    "\n",
    "insert_list = []\n",
    "for char in 'ACADGILD':\n",
    "    insert_list.append(char)\n",
    "print(insert_list)\n",
    "\n",
    "# ['x', 'xx', 'xxx', 'xxxx', 'y', 'yy', 'yyy', 'yyyy', 'z', 'zz', 'zzz', 'zzzz']\n",
    "\n",
    "list=[\"x\", \"y\", \"z\"]\n",
    "clist=[]\n",
    "for i in (list):\n",
    "    val=1\n",
    "    for val in range(1,4):\n",
    "        clist += [i*val]\n",
    "print(clist)\n",
    "\n",
    "# ['x', 'y', 'z', 'xx', 'yy', 'zz', 'xxx', 'yyy', 'zzz', 'xxxx', 'yyyy', 'zzzz']\n",
    "\n",
    "list=[\"x\", \"y\", \"z\"]\n",
    "clist=[]\n",
    "for i in range(1,5):\n",
    "    for val in (list):\n",
    "        clist += [i*val]\n",
    "print(clist)\n",
    "\n",
    "# [[2], [3], [4], [3], [4], [5], [4], [5], [6]]\n",
    "\n",
    "list = [[x+y] for x in range(2,5) for y in range(3)]\n",
    "print(list)\n",
    "\n",
    "#[[2, 3, 4, 5], [3, 4, 5, 6], [4, 5, 6, 7], [5, 6, 7, 8]]\n",
    "\n",
    "list = [[x+y for x in range(2,6)] for y in range(4)]\n",
    "print(list)\n",
    "\n",
    "# [(1, 1), (2, 1), (3, 1), (1, 2), (2, 2), (3, 2), (1, 3), (2, 3), (3, 3)]\n",
    "List=[(y, x) for x in [1,2,3] for y in [1,2,3]]\n",
    "print(List)\n"
   ]
  },
  {
   "cell_type": "code",
   "execution_count": 189,
   "metadata": {},
   "outputs": [
    {
     "name": "stdout",
     "output_type": "stream",
     "text": [
      "Please enter a few words: pratima hari narayan mukhopadhyaya nair vaishya\n",
      "Longest word:  mukhopadhyaya of size:  13\n"
     ]
    }
   ],
   "source": [
    "word_list=[]\n",
    "def find_longest_word(word_list):  \n",
    "    longest_word = ''  \n",
    "    longest_size = 0 \n",
    "    for word in word_list:    \n",
    "        if(len(word) > longest_size):\n",
    "            longest_word = word\n",
    "            longest_size = len(word)      \n",
    "    print(\"Longest word: \",longest_word, \"of size: \", longest_size) \n",
    "\n",
    "words = input('Please enter a few words: ')  \n",
    "word_list = words.split()  \n",
    "find_longest_word(word_list) "
   ]
  }
 ],
 "metadata": {
  "kernelspec": {
   "display_name": "Python 3",
   "language": "python",
   "name": "python3"
  },
  "language_info": {
   "codemirror_mode": {
    "name": "ipython",
    "version": 3
   },
   "file_extension": ".py",
   "mimetype": "text/x-python",
   "name": "python",
   "nbconvert_exporter": "python",
   "pygments_lexer": "ipython3",
   "version": "3.6.5"
  }
 },
 "nbformat": 4,
 "nbformat_minor": 2
}
